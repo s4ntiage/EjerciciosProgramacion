{
 "cells": [
  {
   "cell_type": "markdown",
   "id": "ead6bfd1",
   "metadata": {},
   "source": [
    "# Condicional `if`"
   ]
  },
  {
   "cell_type": "markdown",
   "id": "41f00212",
   "metadata": {},
   "source": [
    "La funcion `if` es una condicion que tiene solamente dos salidas, puede ser verdadero o falso "
   ]
  },
  {
   "cell_type": "markdown",
   "id": "c02b9dec",
   "metadata": {},
   "source": [
    "## Expresiones Boulianas \n",
    "Son las ya mencionadas, es una condicion que tiene dos salidas, o se cumple o no se cumple, es verdadero o falso "
   ]
  },
  {
   "cell_type": "markdown",
   "id": "3a3a70f6",
   "metadata": {},
   "source": [
    "3=x (desigualdad) \\\\\\\n",
    "3==x (igualdad) \\\\\\\n",
    "3!=(distinto) \\\\\\\n",
    "a in lista (contingencia)"
   ]
  },
  {
   "cell_type": "code",
   "execution_count": 1,
   "id": "c0cf3e7b",
   "metadata": {},
   "outputs": [
    {
     "name": "stdout",
     "output_type": "stream",
     "text": [
      "Vale la condición \"externa\"\n",
      "Una sentencia que depende del primer if\n",
      "Si vale la condición \"interna\" 2\n",
      "Una sentencia que depende del primer if\n",
      "Una sentencia independiente\n"
     ]
    }
   ],
   "source": [
    "# ¿Esta linea se ejecuta?                                   SÍ    NO\n",
    "#                                                          ---   ---\n",
    "if 'foo' in ['foo', 'bar', 'baz']:                       #  x\n",
    "    print('Vale la condición \"externa\"')                 #  x\n",
    "\n",
    "    if 10 > 20:                                          #  x\n",
    "        print('No vale la condición \"interna\" 1')        #        x\n",
    "\n",
    "    print('Una sentencia que depende del primer if')     #  x\n",
    "\n",
    "    if 10 < 20:                                          #  x\n",
    "        print('Si vale la condición \"interna\" 2')        #  x\n",
    "\n",
    "    print('Una sentencia que depende del primer if')     #  x\n",
    "print('Una sentencia independiente')                     #  x"
   ]
  },
  {
   "cell_type": "markdown",
   "id": "9feec4f8",
   "metadata": {},
   "source": [
    "Se puede trabajar con el `if` dentro de una sola linea de texto, separando las instrucciones por `punto y coma ';'`"
   ]
  },
  {
   "cell_type": "markdown",
   "id": "33a9507f",
   "metadata": {},
   "source": [
    "`While`: condicional\\\\\\\n",
    "`Break`: termina un ciclo, rompe el ciclo para continuar con el bucle\\\\\\\n",
    "`continue`: termina una interacion para volver a la primera instruccion "
   ]
  },
  {
   "cell_type": "code",
   "execution_count": 2,
   "id": "4aeba19c",
   "metadata": {},
   "outputs": [
    {
     "name": "stdout",
     "output_type": "stream",
     "text": [
      "1\n",
      "Bucle terminado.\n"
     ]
    }
   ],
   "source": [
    "n = 0\n",
    "while n < 5:\n",
    "    n += 1\n",
    "    if n == 2:\n",
    "        break     \n",
    "    print(n)\n",
    "print('Bucle terminado.')"
   ]
  },
  {
   "cell_type": "code",
   "execution_count": 3,
   "id": "727eaa47",
   "metadata": {},
   "outputs": [
    {
     "name": "stdout",
     "output_type": "stream",
     "text": [
      "1\n",
      "3\n",
      "4\n",
      "5\n",
      "Bucle terminado.\n"
     ]
    }
   ],
   "source": [
    "n = 0\n",
    "while n < 5:\n",
    "    n += 1\n",
    "    if n == 2:\n",
    "        continue     \n",
    "    print(n)\n",
    "print('Bucle terminado.')"
   ]
  },
  {
   "cell_type": "markdown",
   "id": "11bd4f0f",
   "metadata": {},
   "source": [
    "*Siempre pendiente a cuanto valor va en cada paso de la variable, siempre!*\n",
    "Si no, me va a dar dolores de cabeza"
   ]
  },
  {
   "cell_type": "markdown",
   "id": "6d8b3775",
   "metadata": {},
   "source": [
    "### Otra funcion \n",
    "`else` se cumplira en el momento en que la condicion sea falsa, desde la primer vez que aparezca saldra lo que pida dentro de la funcion `else`"
   ]
  },
  {
   "cell_type": "markdown",
   "id": "b7f438d0",
   "metadata": {},
   "source": [
    "# Bucles anidados \n",
    "Bucles en blucles\\\\\\\n",
    "Bucles en condiciones\\\\\\\n",
    "En pocas palabraas son bucles dentro de otra funcion "
   ]
  },
  {
   "cell_type": "code",
   "execution_count": null,
   "id": "2747c0ff",
   "metadata": {},
   "outputs": [],
   "source": []
  }
 ],
 "metadata": {
  "kernelspec": {
   "display_name": "Python 3 (ipykernel)",
   "language": "python",
   "name": "python3"
  },
  "language_info": {
   "codemirror_mode": {
    "name": "ipython",
    "version": 3
   },
   "file_extension": ".py",
   "mimetype": "text/x-python",
   "name": "python",
   "nbconvert_exporter": "python",
   "pygments_lexer": "ipython3",
   "version": "3.9.7"
  }
 },
 "nbformat": 4,
 "nbformat_minor": 5
}
