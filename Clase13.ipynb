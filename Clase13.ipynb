{
 "cells": [
  {
   "cell_type": "code",
   "execution_count": 29,
   "id": "3aefb44e",
   "metadata": {},
   "outputs": [
    {
     "name": "stdout",
     "output_type": "stream",
     "text": [
      "5050\n"
     ]
    }
   ],
   "source": [
    "t=0\n",
    "for m in range(101):\n",
    "    t=t+m\n",
    "print(t)"
   ]
  },
  {
   "cell_type": "code",
   "execution_count": 47,
   "id": "9b0bdf29",
   "metadata": {},
   "outputs": [],
   "source": [
    "def mm():\n",
    "    t=0\n",
    "    for m in range(101):\n",
    "        t=t+m\n",
    "    print(t)\n",
    "    \n",
    "def nn():\n",
    "    t=0\n",
    "    for m in range(101):\n",
    "        t=t+m\n",
    "    return(t)"
   ]
  },
  {
   "cell_type": "code",
   "execution_count": 48,
   "id": "07a6e698",
   "metadata": {},
   "outputs": [],
   "source": [
    "def euler(x):\n",
    "    y=x*(x+1)/2\n",
    "    return y\n",
    "\n",
    "def eulerV2(s):\n",
    "    return s*(s+1)/2"
   ]
  },
  {
   "cell_type": "code",
   "execution_count": 49,
   "id": "efa71101",
   "metadata": {},
   "outputs": [
    {
     "name": "stdout",
     "output_type": "stream",
     "text": [
      "Variable   Type        Data/Info\n",
      "--------------------------------\n",
      "enteros    function    <function enteros at 0x7fa77d0211f0>\n",
      "euler      function    <function euler at 0x7fa77ee6c790>\n",
      "eulerV2    function    <function eulerV2 at 0x7fa77ee6c280>\n",
      "m          int         100\n",
      "mm         function    <function mm at 0x7fa77ee6c9d0>\n",
      "nn         function    <function nn at 0x7fa77ee6c160>\n",
      "t          int         5050\n"
     ]
    }
   ],
   "source": [
    "whos"
   ]
  },
  {
   "cell_type": "code",
   "execution_count": 45,
   "id": "a9fadab0",
   "metadata": {},
   "outputs": [
    {
     "data": {
      "text/plain": [
       "5050.0"
      ]
     },
     "execution_count": 45,
     "metadata": {},
     "output_type": "execute_result"
    }
   ],
   "source": [
    "euler(100)"
   ]
  },
  {
   "cell_type": "code",
   "execution_count": 46,
   "id": "97560a36",
   "metadata": {},
   "outputs": [
    {
     "data": {
      "text/plain": [
       "5050.0"
      ]
     },
     "execution_count": 46,
     "metadata": {},
     "output_type": "execute_result"
    }
   ],
   "source": [
    "eulerV2(100)"
   ]
  },
  {
   "cell_type": "code",
   "execution_count": 50,
   "id": "2f397170",
   "metadata": {},
   "outputs": [
    {
     "name": "stdout",
     "output_type": "stream",
     "text": [
      "5050\n"
     ]
    }
   ],
   "source": [
    "mm()"
   ]
  },
  {
   "cell_type": "code",
   "execution_count": 51,
   "id": "6c9f934a",
   "metadata": {},
   "outputs": [
    {
     "data": {
      "text/plain": [
       "5050"
      ]
     },
     "execution_count": 51,
     "metadata": {},
     "output_type": "execute_result"
    }
   ],
   "source": [
    "nn()"
   ]
  },
  {
   "cell_type": "code",
   "execution_count": 52,
   "id": "0860ed23",
   "metadata": {},
   "outputs": [
    {
     "data": {
      "text/plain": [
       "5050"
      ]
     },
     "execution_count": 52,
     "metadata": {},
     "output_type": "execute_result"
    }
   ],
   "source": [
    "l=nn()\n",
    "l"
   ]
  },
  {
   "cell_type": "code",
   "execution_count": 53,
   "id": "0cc711f3",
   "metadata": {},
   "outputs": [
    {
     "name": "stdout",
     "output_type": "stream",
     "text": [
      "5050\n"
     ]
    }
   ],
   "source": [
    "p=mm()\n",
    "p"
   ]
  },
  {
   "cell_type": "code",
   "execution_count": 58,
   "id": "b65477c2",
   "metadata": {},
   "outputs": [],
   "source": [
    "def kk(u):\n",
    "    p=0\n",
    "    for m in range(u+1):\n",
    "        p=p+m\n",
    "    print(p)"
   ]
  },
  {
   "cell_type": "code",
   "execution_count": 59,
   "id": "0bfb7fa2",
   "metadata": {},
   "outputs": [
    {
     "name": "stdout",
     "output_type": "stream",
     "text": [
      "120\n"
     ]
    }
   ],
   "source": [
    "kk(15)"
   ]
  },
  {
   "cell_type": "markdown",
   "id": "83fb07d5",
   "metadata": {},
   "source": [
    "# Modulos "
   ]
  },
  {
   "cell_type": "code",
   "execution_count": 60,
   "id": "c071f33b",
   "metadata": {},
   "outputs": [
    {
     "name": "stdout",
     "output_type": "stream",
     "text": [
      "\n",
      "Please wait a moment while I gather a list of all available modules...\n",
      "\n"
     ]
    },
    {
     "name": "stderr",
     "output_type": "stream",
     "text": [
      "/Users/macbook/opt/anaconda3/lib/python3.9/site-packages/IPython/kernel/__init__.py:12: ShimWarning: The `IPython.kernel` package has been deprecated since IPython 4.0.You should import from ipykernel or jupyter_client instead.\n",
      "  warn(\"The `IPython.kernel` package has been deprecated since IPython 4.0.\"\n",
      "WARNING: AstropyDeprecationWarning: The private astropy._erfa module has been made into its own package, pyerfa, which is a dependency of astropy and can be imported directly using \"import erfa\" [astropy._erfa]\n",
      "/Users/macbook/opt/anaconda3/lib/python3.9/pkgutil.py:93: MatplotlibDeprecationWarning: \n",
      "The matplotlib.compat module was deprecated in Matplotlib 3.3 and will be removed two minor releases later.\n",
      "  __import__(info.name)\n",
      "/Users/macbook/opt/anaconda3/lib/python3.9/site-packages/nltk/twitter/__init__.py:20: UserWarning: The twython library has not been installed. Some functionality from the twitter package will not be available.\n",
      "  warnings.warn(\n",
      "QSS file sucessfuly loaded.\n",
      "Found OS patches to be applied.\n",
      "Found application patches to be applied.\n",
      "No QCoreApplication instance found. Application patches not applied. You have to call load_stylesheet function after instantiation of QApplication to take effect. \n",
      "/Users/macbook/opt/anaconda3/lib/python3.9/pkgutil.py:108: VisibleDeprecationWarning:\n",
      "\n",
      "zmq.eventloop.minitornado is deprecated in pyzmq 14.0 and will be removed.\n",
      "    Install tornado itself to use zmq with the tornado IOLoop.\n",
      "    \n",
      "\n"
     ]
    },
    {
     "name": "stdout",
     "output_type": "stream",
     "text": [
      "Cython              branca              jupyterlab_plotly   rlcompleter\n",
      "IPython             brotli              jupyterlab_pygments rmagic\n",
      "OpenSSL             bs4                 jupyterlab_server   rope\n",
      "PIL                 builtins            jupyterlab_widgets  rtree\n",
      "PyQt5               bz2                 jwt                 ruamel_yaml\n",
      "TBB                 cProfile            keyring             runpy\n",
      "__future__          cached_property     keyword             sched\n",
      "_abc                calendar            kiwisolver          scipy\n",
      "_aix_support        certifi             lazy_object_proxy   scripts\n",
      "_ast                cffi                lib2to3             seaborn\n",
      "_asyncio            cgi                 libarchive          secrets\n",
      "_bisect             cgitb               libfuturize         select\n",
      "_black_version      chardet             libpasteurize       selectors\n",
      "_blake2             charset_normalizer  lief                send2trash\n",
      "_bootlocale         chunk               linecache           setuptools\n",
      "_bootsubprocess     click               llvmlite            shelve\n",
      "_bz2                cloudpickle         locale              shlex\n",
      "_cffi_backend       clyent              locket              shutil\n",
      "_codecs             cmath               logging             signal\n",
      "_codecs_cn          cmd                 lxml                simplegeneric\n",
      "_codecs_hk          code                lzma                singledispatch\n",
      "_codecs_iso2022     codecs              mactypes            sip\n",
      "_codecs_jp          codeop              mailbox             sipconfig\n",
      "_codecs_kr          collections         mailcap             sipdistutils\n",
      "_codecs_tw          colorama            markupsafe          site\n",
      "_collections        colorsys            marshal             six\n",
      "_collections_abc    compileall          math                skimage\n",
      "_compat_pickle      concurrent          matplotlib          sklearn\n",
      "_compression        conda               matplotlib_inline   sklearnex\n",
      "_contextvars        conda_build         mccabe              slugify\n",
      "_crypt              conda_content_trust mimetypes           smtpd\n",
      "_csv                conda_env           mistune             smtplib\n",
      "_ctypes             conda_pack          mkl                 sndhdr\n",
      "_ctypes_test        conda_package_handling mkl_fft             sniffio\n",
      "_curses             conda_token         mkl_random          snowballstemmer\n",
      "_curses_panel       conda_verify        mmap                socket\n",
      "_daal4py            configparser        mock                socketserver\n",
      "_datetime           contextlib          modulefinder        socks\n",
      "_dbm                contextlib2         more_itertools      sockshandler\n",
      "_decimal            contextvars         mpi_transceiver     sortedcollections\n",
      "_distutils_hack     cookiecutter        mpmath              sortedcontainers\n",
      "_elementtree        copy                msgpack             soupsieve\n",
      "_functools          copyreg             multipledispatch    sphinx\n",
      "_hashlib            coverage            multiprocessing     sphinxcontrib\n",
      "_heapq              coveralls           munkres             spyder\n",
      "_imp                crypt               mypy_extensions     spyder_kernels\n",
      "_io                 cryptography        navigator_updater   sqlalchemy\n",
      "_json               csv                 nbclassic           sqlite3\n",
      "_locale             ctypes              nbclient            sre_compile\n",
      "_lsprof             curl                nbconvert           sre_constants\n",
      "_lzma               curses              nbformat            sre_parse\n",
      "_markupbase         cycler              nbsphinx            ssl\n",
      "_md5                cython              nest_asyncio        stat\n",
      "_multibytecodec     cythonmagic         netrc               statistics\n",
      "_multiprocessing    cytoolz             networkx            statsmodels\n",
      "_onedal4py_host     daal4py             nis                 storemagic\n",
      "_opcode             dask                nltk                string\n",
      "_operator           dataclasses         nntplib             stringprep\n",
      "_osx_support        datascience         nose                struct\n",
      "_peg_parser         datetime            notebook            subprocess\n",
      "_pickle             dateutil            ntpath              sunau\n",
      "_plotly_future_     dbm                 nturl2path          symbol\n",
      "_plotly_utils       debugpy             numba               sympy\n",
      "_posixshmem         decimal             numbers             sympyprinting\n",
      "_posixsubprocess    decorator           numexpr             symtable\n",
      "_py_abc             defusedxml          numpy               sys\n",
      "_pydecimal          diff_match_patch    numpydoc            sysconfig\n",
      "_pyio               difflib             olefile             syslog\n",
      "_pyrsistent_version dis                 onedal              tables\n",
      "_pytest             distributed         opcode              tabnanny\n",
      "_queue              distutils           openpyxl            tarfile\n",
      "_random             docopt              operator            tbb\n",
      "_scproxy            doctest             optparse            tblib\n",
      "_sha1               docutils            os                  telnetlib\n",
      "_sha256             email               osax                tempfile\n",
      "_sha3               encodings           packaging           tenacity\n",
      "_sha512             ensurepip           pandas              terminado\n",
      "_signal             entrypoints         pandocfilters       termios\n",
      "_sitebuiltins       enum                parser              test\n",
      "_socket             erfa                parso               test_pycosat\n",
      "_sqlite3            errno               partd               testpath\n",
      "_sre                et_xmlfile          past                tests\n",
      "_ssl                fastcache           path                text_unidecode\n",
      "_stat               faulthandler        pathlib             textdistance\n",
      "_statistics         fcntl               pathlib2            textwrap\n",
      "_string             filecmp             pathspec            this\n",
      "_strptime           fileinput           patsy               threading\n",
      "_struct             filelock            pdb                 threadpoolctl\n",
      "_symtable           flake8              pep8                three_merge\n",
      "_sysconfigdata__darwin_darwin flask               pexpect             tifffile\n",
      "_sysconfigdata_x86_64_apple_darwin13_4_0 fnmatch             pickle              time\n",
      "_testbuffer         folium              pickleshare         timeit\n",
      "_testcapi           fontTools           pickletools         tinycss\n",
      "_testimportmultiple formatter           pip                 tkinter\n",
      "_testinternalcapi   fractions           pipes               tlz\n",
      "_testmultiphase     fsspec              pkg_resources       token\n",
      "_thread             ftplib              pkginfo             tokenize\n",
      "_threading_local    functools           pkgutil             toml\n",
      "_tkinter            future              platform            toolz\n",
      "_tracemalloc        gc                  plistlib            tornado\n",
      "_uuid               genericpath         plotly              tqdm\n",
      "_warnings           getopt              plotlywidget        trace\n",
      "_watchdog_fsevents  getpass             pluggy              traceback\n",
      "_weakref            gettext             ply                 tracemalloc\n",
      "_weakrefset         gevent              poplib              traitlets\n",
      "_xxsubinterpreters  glob                posix               tty\n",
      "_xxtestfuzz         glob2               posixpath           turtle\n",
      "_yaml               gmpy2               poyo                turtledemo\n",
      "_zoneinfo           grader              pprint              typed_ast\n",
      "abc                 graphlib            profile             types\n",
      "aem                 greenlet            prometheus_client   typing\n",
      "aifc                grp                 prompt_toolkit      typing_extensions\n",
      "alabaster           gzip                pstats              ujson\n",
      "anaconda_navigator  h5py                psutil              unicodecsv\n",
      "anaconda_project    hashlib             pty                 unicodedata\n",
      "antigravity         heapdict            ptyprocess          unidecode\n",
      "anyio               heapq               pvectorc            unittest\n",
      "appdirs             hmac                pwd                 urllib\n",
      "applaunchservices   html                py                  urllib3\n",
      "appnope             html5lib            py_compile          uu\n",
      "appscript           http                pyclbr              uuid\n",
      "argh                idlelib             pycodestyle         venv\n",
      "argon2              idna                pycosat             warnings\n",
      "argparse            imagecodecs         pycparser           watchdog\n",
      "array               imageio             pycurl              wave\n",
      "arrow               imagesize           pydoc               wcwidth\n",
      "asn1crypto          imaplib             pydoc_data          weakref\n",
      "ast                 imghdr              pydocstyle          webbrowser\n",
      "astroid             imp                 pyexpat             webencodings\n",
      "astropy             importlib           pyflakes            werkzeug\n",
      "async_generator     importlib_metadata  pygments            wheel\n",
      "asynchat            inflection          pylab               whichcraft\n",
      "asyncio             iniconfig           pylint              widgetsnbextension\n",
      "asyncore            inspect             pyls_spyder         wrapt\n",
      "atexit              intervaltree        pylsp               wsgiref\n",
      "atomicwrites        io                  pylsp_black         wurlitzer\n",
      "attr                ipaddress           pylsp_jsonrpc       xdrlib\n",
      "audioop             ipykernel           pyodbc              xlrd\n",
      "autopep8            ipykernel_launcher  pyparsing           xlsxwriter\n",
      "autoreload          ipython_genutils    pyrsistent          xlwings\n",
      "babel               ipywidgets          pytest              xlwt\n",
      "backcall            isort               pytz                xml\n",
      "backports           isympy              pywt                xmlrpc\n",
      "base64              itertools           pyximport           xmltodict\n",
      "bdb                 itsdangerous        qdarkstyle          xxlimited\n",
      "binaryornot         jdcal               qstylizer           xxsubtype\n",
      "binascii            jedi                qtawesome           yaml\n",
      "binhex              jinja2              qtconsole           yapf\n",
      "binstar_client      jinja2_time         qtpy                yapftests\n",
      "bisect              joblib              queue               zict\n",
      "bitarray            json                quopri              zipapp\n",
      "bkcharts            json5               random              zipfile\n",
      "black               jsonschema          re                  zipimport\n",
      "blackd              jupyter             readline            zipp\n",
      "bleach              jupyter_client      regex               zlib\n",
      "blib2to3            jupyter_console     repo_cli            zmq\n",
      "bokeh               jupyter_core        reprlib             zoneinfo\n",
      "boto                jupyter_server      requests            zope\n",
      "bottleneck          jupyterlab          resource            \n",
      "\n",
      "Enter any module name to get more help.  Or, type \"modules spam\" to search\n",
      "for modules whose name or summary contain the string \"spam\".\n",
      "\n"
     ]
    }
   ],
   "source": [
    "help(\"modules\")"
   ]
  },
  {
   "cell_type": "code",
   "execution_count": 62,
   "id": "8f79da18",
   "metadata": {},
   "outputs": [],
   "source": [
    "import math \n",
    "from math import sqrt \n",
    "import math as matematicasLindas"
   ]
  },
  {
   "cell_type": "code",
   "execution_count": 63,
   "id": "c52790f3",
   "metadata": {},
   "outputs": [
    {
     "data": {
      "text/plain": [
       "3.0"
      ]
     },
     "execution_count": 63,
     "metadata": {},
     "output_type": "execute_result"
    }
   ],
   "source": [
    "sqrt(9)"
   ]
  },
  {
   "cell_type": "code",
   "execution_count": 64,
   "id": "98e7c95a",
   "metadata": {},
   "outputs": [
    {
     "data": {
      "text/plain": [
       "['__doc__',\n",
       " '__file__',\n",
       " '__loader__',\n",
       " '__name__',\n",
       " '__package__',\n",
       " '__spec__',\n",
       " 'acos',\n",
       " 'acosh',\n",
       " 'asin',\n",
       " 'asinh',\n",
       " 'atan',\n",
       " 'atan2',\n",
       " 'atanh',\n",
       " 'ceil',\n",
       " 'comb',\n",
       " 'copysign',\n",
       " 'cos',\n",
       " 'cosh',\n",
       " 'degrees',\n",
       " 'dist',\n",
       " 'e',\n",
       " 'erf',\n",
       " 'erfc',\n",
       " 'exp',\n",
       " 'expm1',\n",
       " 'fabs',\n",
       " 'factorial',\n",
       " 'floor',\n",
       " 'fmod',\n",
       " 'frexp',\n",
       " 'fsum',\n",
       " 'gamma',\n",
       " 'gcd',\n",
       " 'hypot',\n",
       " 'inf',\n",
       " 'isclose',\n",
       " 'isfinite',\n",
       " 'isinf',\n",
       " 'isnan',\n",
       " 'isqrt',\n",
       " 'lcm',\n",
       " 'ldexp',\n",
       " 'lgamma',\n",
       " 'log',\n",
       " 'log10',\n",
       " 'log1p',\n",
       " 'log2',\n",
       " 'modf',\n",
       " 'nan',\n",
       " 'nextafter',\n",
       " 'perm',\n",
       " 'pi',\n",
       " 'pow',\n",
       " 'prod',\n",
       " 'radians',\n",
       " 'remainder',\n",
       " 'sin',\n",
       " 'sinh',\n",
       " 'sqrt',\n",
       " 'tan',\n",
       " 'tanh',\n",
       " 'tau',\n",
       " 'trunc',\n",
       " 'ulp']"
      ]
     },
     "execution_count": 64,
     "metadata": {},
     "output_type": "execute_result"
    }
   ],
   "source": [
    "dir(math)"
   ]
  },
  {
   "cell_type": "code",
   "execution_count": null,
   "id": "4df3a4de",
   "metadata": {},
   "outputs": [],
   "source": []
  }
 ],
 "metadata": {
  "kernelspec": {
   "display_name": "Python 3 (ipykernel)",
   "language": "python",
   "name": "python3"
  },
  "language_info": {
   "codemirror_mode": {
    "name": "ipython",
    "version": 3
   },
   "file_extension": ".py",
   "mimetype": "text/x-python",
   "name": "python",
   "nbconvert_exporter": "python",
   "pygments_lexer": "ipython3",
   "version": "3.9.7"
  }
 },
 "nbformat": 4,
 "nbformat_minor": 5
}
