{
 "cells": [
  {
   "cell_type": "markdown",
   "id": "1d6f310a-e27a-46b5-9616-1b93f5c96821",
   "metadata": {},
   "source": [
    "# Clase 5 \n",
    "\n",
    "**Primeros scripts**\n",
    " \n",
    "Vamos a definir en una celda, tres variables, una que contenga mi nombre, otra que contenga mi edad y otra que muestre el porcentaje de la semana que utilizo para mi curso de programación.\n",
    "\n",
    "# Método *format*"
   ]
  },
  {
   "cell_type": "code",
   "execution_count": 3,
   "id": "961ed425-fe94-42da-8cc0-84f351c7b95f",
   "metadata": {},
   "outputs": [],
   "source": [
    "Nombre= 'Miguel Santiago Monsalve Sanchez' \n",
    "Edad=16 \n",
    "Por_prog=(4+2)/(24*5)"
   ]
  },
  {
   "cell_type": "code",
   "execution_count": 7,
   "id": "82007aa8-3586-4555-8507-fca5011e5972",
   "metadata": {},
   "outputs": [
    {
     "data": {
      "text/plain": [
       "'Mi nombre es Miguel Santiago Monsalve Sanchez, tengo 16 años y soy externadista'"
      ]
     },
     "execution_count": 7,
     "metadata": {},
     "output_type": "execute_result"
    }
   ],
   "source": [
    "Texto1='Mi nombre es {Nombre}, tengo {Edad} años y soy externadista'.format(Nombre=Nombre, Edad=Edad)\n",
    "Texto1"
   ]
  },
  {
   "cell_type": "code",
   "execution_count": 9,
   "id": "f107a3d5-7f70-4e48-8eee-9151af369ff7",
   "metadata": {},
   "outputs": [
    {
     "data": {
      "text/plain": [
       "'Mi nombre es Miguel Santiago Monsalve Sanchez, tengo 16 años y soy externadista'"
      ]
     },
     "execution_count": 9,
     "metadata": {},
     "output_type": "execute_result"
    }
   ],
   "source": [
    "Texto2='Mi nombre es {}, tengo {} años y soy externadista'.format(Nombre,Edad)\n",
    "Texto2"
   ]
  },
  {
   "cell_type": "code",
   "execution_count": 13,
   "id": "5bb29072-0182-4e7a-adb0-1d4972b3acc8",
   "metadata": {},
   "outputs": [
    {
     "data": {
      "text/plain": [
       "'Mi nombre es Miguel Santiago Monsalve Sanchez, tengo 16 años, soy externadista y dedico el 0.05 de mi semana a programación'"
      ]
     },
     "execution_count": 13,
     "metadata": {},
     "output_type": "execute_result"
    }
   ],
   "source": [
    "Texto3='Mi nombre es {Nombre}, tengo {Edad} años, soy externadista y dedico el {Porcentaje} de mi semana a programación'.format(Nombre=Nombre, Edad=Edad, Porcentaje=Por_prog)\n",
    "Texto3"
   ]
  },
  {
   "cell_type": "code",
   "execution_count": 15,
   "id": "e5c95b55-76c3-4cb1-8d3d-9daf8781866d",
   "metadata": {},
   "outputs": [
    {
     "data": {
      "text/plain": [
       "'Mi nombre es Miguel Santiago Monsalve Sanchez, tengo 16 años, soy externadista y dedico el 5.0% de mi semana a programación'"
      ]
     },
     "execution_count": 15,
     "metadata": {},
     "output_type": "execute_result"
    }
   ],
   "source": [
    "Texto4='Mi nombre es {Nombre}, tengo {Edad} años, soy externadista y dedico el {Porcentaje:.1%} de mi semana a programación'.format(Nombre=Nombre, Edad=Edad, Porcentaje=Por_prog)\n",
    "Texto4"
   ]
  },
  {
   "cell_type": "code",
   "execution_count": 18,
   "id": "59e1bf09-6102-48bf-a23e-f4afd3d53e2e",
   "metadata": {},
   "outputs": [
    {
     "name": "stdout",
     "output_type": "stream",
     "text": [
      "Nombre:Miguel Santiago Monsalve Sanchez\n",
      "Edad:        16\n"
     ]
    }
   ],
   "source": [
    "Texto5='Nombre:{Nombre:>9}\\nEdad:{Edad:>10}'.format(Nombre=Nombre,Edad=Edad)\n",
    "print(Texto5)"
   ]
  },
  {
   "cell_type": "code",
   "execution_count": 26,
   "id": "23b6c823-8f85-40a0-8250-17790f535b36",
   "metadata": {},
   "outputs": [
    {
     "name": "stdout",
     "output_type": "stream",
     "text": [
      "Nombre:Miguel Santiago Monsalve Sanchez                                                \n",
      "Edad:16                                                                              \n"
     ]
    }
   ],
   "source": [
    "Texto6='Nombre:{Nombre:<80}\\nEdad:{Edad:<80}'.format(Nombre=Nombre,Edad=Edad)\n",
    "print(Texto6)"
   ]
  },
  {
   "cell_type": "code",
   "execution_count": 24,
   "id": "6f76bcf7-0df3-4ed7-8237-65648e85e672",
   "metadata": {},
   "outputs": [
    {
     "name": "stdout",
     "output_type": "stream",
     "text": [
      "    Miguel Santiago Monsalve Sanchez    \n",
      "                   16                   \n"
     ]
    }
   ],
   "source": [
    "Texto7='{Nombre:^40}\\n{Edad:^40}'.format(Nombre=Nombre,Edad=Edad)\n",
    "print(Texto7)"
   ]
  },
  {
   "cell_type": "code",
   "execution_count": 28,
   "id": "7735bfce-8bca-4a04-9155-885383f3a1b4",
   "metadata": {},
   "outputs": [
    {
     "name": "stdout",
     "output_type": "stream",
     "text": [
      "El boleto para Bad Bunny valió $22,000,000\n"
     ]
    }
   ],
   "source": [
    "Texto8='El boleto para Bad Bunny valió ${boleto:,}'.format(boleto=22000000)\n",
    "print(Texto8)"
   ]
  },
  {
   "cell_type": "code",
   "execution_count": 31,
   "id": "6abe35ab-0e11-4939-b6a2-ba2d2aedc719",
   "metadata": {},
   "outputs": [
    {
     "name": "stdout",
     "output_type": "stream",
     "text": [
      "En binario tengo 10000\n"
     ]
    }
   ],
   "source": [
    "Texto9='En binario tengo {Edad:b}'.format(Edad=Edad)\n",
    "print(Texto9)"
   ]
  },
  {
   "cell_type": "markdown",
   "id": "ee0caa14-5ea7-49a4-abeb-63a1460b3be7",
   "metadata": {},
   "source": [
    "## Mas metodos en cadenas de caracteres \n",
    "\n",
    "Veamos una lista de metodos e intentemos definir que hace cada uno:"
   ]
  },
  {
   "cell_type": "code",
   "execution_count": 33,
   "id": "281f19f5-cef9-49d1-af81-e8532ec895b4",
   "metadata": {},
   "outputs": [
    {
     "name": "stdout",
     "output_type": "stream",
     "text": [
      "Hola\n"
     ]
    }
   ],
   "source": [
    "Texto1='hola'.capitalize() # Pone una mayuscula incial\n",
    "print(Texto1)"
   ]
  },
  {
   "cell_type": "code",
   "execution_count": 35,
   "id": "a6e8bc9f-7dfc-4b1d-a505-507119608918",
   "metadata": {},
   "outputs": [
    {
     "name": "stdout",
     "output_type": "stream",
     "text": [
      "en el monte de la china la chinita se perdio\n"
     ]
    }
   ],
   "source": [
    "Texto2='En el Monte de la China lA chInita Se perdIO'.casefold() # Pone todo en minuscula \n",
    "print(Texto2)"
   ]
  },
  {
   "cell_type": "code",
   "execution_count": 37,
   "id": "8326847c-6d6d-4cfe-a583-ab826ccd8246",
   "metadata": {},
   "outputs": [
    {
     "name": "stdout",
     "output_type": "stream",
     "text": [
      "EN EL MONTE DE LA CHINA LA CHINITA SE PERDIO\n"
     ]
    }
   ],
   "source": [
    "Texto3='En el Monte de la China lA chInita Se perdIO'.upper() # Pone todo en mayuscula \n",
    "print(Texto3)"
   ]
  },
  {
   "cell_type": "code",
   "execution_count": 38,
   "id": "97c1a56f-a693-4f2b-85b2-455cec2d1b99",
   "metadata": {},
   "outputs": [
    {
     "name": "stdout",
     "output_type": "stream",
     "text": [
      "en el monte de la china la chinita se perdio\n"
     ]
    }
   ],
   "source": [
    "Texto4='En el Monte de la China lA chInita Se perdIO'.lower() # Pone todo en minuscula \n",
    "print(Texto4)"
   ]
  },
  {
   "cell_type": "code",
   "execution_count": 39,
   "id": "2f3fe08f-760a-4fe4-97f6-0dcc4b18ec40",
   "metadata": {},
   "outputs": [
    {
     "name": "stdout",
     "output_type": "stream",
     "text": [
      "En el Monte de lx-x Chinx-x lA chInitx-x Se perdIO\n"
     ]
    }
   ],
   "source": [
    "Texto5='En el Monte de la China lA chInita Se perdIO'.replace('a', 'x-x') # Remplaza la letra escogida por lo que queramos que se reemplace\n",
    "print(Texto5)"
   ]
  },
  {
   "cell_type": "code",
   "execution_count": 41,
   "id": "af598df7-aa09-4c03-8e85-cae0b9fa3810",
   "metadata": {},
   "outputs": [
    {
     "name": "stdout",
     "output_type": "stream",
     "text": [
      "eN EL mONTE DE LA cHINA La CHiNITA sE PERDio\n"
     ]
    }
   ],
   "source": [
    "Texto6='En el Monte de la China lA chInita Se perdIO'.swapcase() # Cambia mayusculas por minusculas y viceversa \n",
    "print(Texto6)"
   ]
  },
  {
   "cell_type": "code",
   "execution_count": 42,
   "id": "78ad33f1-bce0-4950-b1c2-055da6e56be8",
   "metadata": {},
   "outputs": [
    {
     "name": "stdout",
     "output_type": "stream",
     "text": [
      "                            En el Monte de la China lA chInita Se perdIO                            \n"
     ]
    }
   ],
   "source": [
    "Texto7='En el Monte de la China lA chInita Se perdIO'.center(100) # Toma la cantidad de espacios que se le indiquen \n",
    "print(Texto7)"
   ]
  },
  {
   "cell_type": "markdown",
   "id": "08eba43a-8ec0-4672-92cd-1cb8d6f414ee",
   "metadata": {},
   "source": [
    "# Otros metodos "
   ]
  },
  {
   "cell_type": "code",
   "execution_count": 44,
   "id": "8818faac-1c8a-41b1-b5e1-3ef0d450681d",
   "metadata": {},
   "outputs": [
    {
     "name": "stdout",
     "output_type": "stream",
     "text": [
      "2\n"
     ]
    }
   ],
   "source": [
    "x1='Las bananas son ricas en potasio'.count('an') # Cuenta cuantos caracteres que se le pide 'an' hay en el texto\n",
    "print(x1)"
   ]
  },
  {
   "cell_type": "code",
   "execution_count": 48,
   "id": "f1d74e0a-b6b4-4e7d-8ab0-f5377aa4d0f6",
   "metadata": {},
   "outputs": [
    {
     "name": "stdout",
     "output_type": "stream",
     "text": [
      "0\n"
     ]
    }
   ],
   "source": [
    "x3='En el Externado soy muy feliz'.find('En')\n",
    "print(x3)"
   ]
  },
  {
   "cell_type": "code",
   "execution_count": 50,
   "id": "5300c899-0833-455f-802d-fc645bc67d6f",
   "metadata": {},
   "outputs": [
    {
     "name": "stdout",
     "output_type": "stream",
     "text": [
      "3\n"
     ]
    }
   ],
   "source": [
    "x4='En el Externado soy muy feliz'.find('el')\n",
    "print(x4)"
   ]
  },
  {
   "cell_type": "code",
   "execution_count": 51,
   "id": "38a15fb7-df28-4797-9dcd-fdebc4215f7c",
   "metadata": {},
   "outputs": [
    {
     "name": "stdout",
     "output_type": "stream",
     "text": [
      "6\n"
     ]
    }
   ],
   "source": [
    "x5='En el Externado soy muy feliz'.find('Externado')\n",
    "print(x5)"
   ]
  },
  {
   "cell_type": "code",
   "execution_count": 52,
   "id": "dfe9bdae-d556-4b75-bdc5-17ba44317f2e",
   "metadata": {},
   "outputs": [
    {
     "name": "stdout",
     "output_type": "stream",
     "text": [
      "16\n"
     ]
    }
   ],
   "source": [
    "x6='En el Externado soy muy feliz'.find('soy')\n",
    "print(x6)"
   ]
  },
  {
   "cell_type": "markdown",
   "id": "3439342c-67ba-46f1-b340-e1b82aa5af91",
   "metadata": {},
   "source": [
    "En Python los textos son arreglos, o mas bien secuencias de caracteres. Cada texto tiene un orden segun la aparicion de cada caracter."
   ]
  },
  {
   "cell_type": "code",
   "execution_count": 53,
   "id": "2ffb61ce-7cc0-4e4d-873c-69b9e455046d",
   "metadata": {},
   "outputs": [],
   "source": [
    "Texto_normal='0123456789'"
   ]
  },
  {
   "cell_type": "code",
   "execution_count": 55,
   "id": "fc192891-12d7-463c-a0d3-96a1e07fa021",
   "metadata": {},
   "outputs": [
    {
     "data": {
      "text/plain": [
       "'0'"
      ]
     },
     "execution_count": 55,
     "metadata": {},
     "output_type": "execute_result"
    }
   ],
   "source": [
    "Texto_normal[0] # identifico a cada caracter en esa lista o arreglo con parentesis cuadrados"
   ]
  },
  {
   "cell_type": "code",
   "execution_count": 56,
   "id": "0c8b4811-7382-456f-8d07-a1a6d7dc40d6",
   "metadata": {},
   "outputs": [
    {
     "data": {
      "text/plain": [
       "'5'"
      ]
     },
     "execution_count": 56,
     "metadata": {},
     "output_type": "execute_result"
    }
   ],
   "source": [
    "Texto_normal[5]"
   ]
  },
  {
   "cell_type": "code",
   "execution_count": 61,
   "id": "c30c6091-38d3-4033-904b-469cd35a7637",
   "metadata": {},
   "outputs": [
    {
     "data": {
      "text/plain": [
       "'01234'"
      ]
     },
     "execution_count": 61,
     "metadata": {},
     "output_type": "execute_result"
    }
   ],
   "source": [
    "Texto_normal[0:5] # Los dos valores separados por dos puntos indican un rango en el texto, inician en el primero y termina uno antes que el segundo \n"
   ]
  },
  {
   "cell_type": "code",
   "execution_count": 65,
   "id": "18214298-62b0-4e49-9210-f0ccb6565bc8",
   "metadata": {},
   "outputs": [
    {
     "data": {
      "text/plain": [
       "'234567'"
      ]
     },
     "execution_count": 65,
     "metadata": {},
     "output_type": "execute_result"
    }
   ],
   "source": [
    "Texto_normal[2:8]"
   ]
  },
  {
   "cell_type": "code",
   "execution_count": 68,
   "id": "d24a5b54-d80e-4fbe-9d5d-220db5d2c523",
   "metadata": {},
   "outputs": [],
   "source": [
    "texto='Yo soy muy novato para esto de la programacion'"
   ]
  },
  {
   "cell_type": "code",
   "execution_count": 67,
   "id": "abef7cc2-acd7-4c53-a7f4-06a193b083de",
   "metadata": {},
   "outputs": [
    {
     "data": {
      "text/plain": [
       "'oy muy novato '"
      ]
     },
     "execution_count": 67,
     "metadata": {},
     "output_type": "execute_result"
    }
   ],
   "source": [
    "texto[4:18]"
   ]
  },
  {
   "cell_type": "markdown",
   "id": "9c894340-63ed-4330-84b7-1251c9ee3eb1",
   "metadata": {},
   "source": [
    "# Funcion input"
   ]
  },
  {
   "cell_type": "code",
   "execution_count": 69,
   "id": "3a944e01-0ce4-4f14-b4d6-238c7bac8a36",
   "metadata": {},
   "outputs": [
    {
     "name": "stdin",
     "output_type": "stream",
     "text": [
      "Escriba un texto aquí:  4\n"
     ]
    },
    {
     "name": "stdout",
     "output_type": "stream",
     "text": [
      "4\n",
      "<class 'str'>\n"
     ]
    }
   ],
   "source": [
    "txt=input('Escriba un texto aquí: ')\n",
    "print(txt)\n",
    "print(type(txt))"
   ]
  },
  {
   "cell_type": "markdown",
   "id": "954a3016-2481-4197-abac-9d735b84bd4a",
   "metadata": {},
   "source": [
    "Claramente *input* permite que el usuario pueda ingresar texto, ese texto siempre se guardara como cadena de caracteres y si se quiere cambiar debe utilizar una funcion adecuada "
   ]
  },
  {
   "cell_type": "code",
   "execution_count": 70,
   "id": "c5c308c3-9d4e-43f9-a952-bda3bdddb522",
   "metadata": {},
   "outputs": [
    {
     "name": "stdin",
     "output_type": "stream",
     "text": [
      "Ingrese su nombre:  Santiago\n",
      "Ingrese su edad:  16\n"
     ]
    },
    {
     "name": "stdout",
     "output_type": "stream",
     "text": [
      "En el 2023 Santiago, tendrá 16 años\n"
     ]
    }
   ],
   "source": [
    "txt=input('Ingrese su nombre: ')\n",
    "age=input('Ingrese su edad: ')\n",
    "print('En el 2023 {nombre}, tendrá {edad} años'.format(nombre=txt,edad=age))"
   ]
  },
  {
   "cell_type": "code",
   "execution_count": 71,
   "id": "23fb35b0-24fc-4493-ba36-fdb6a9de81ed",
   "metadata": {},
   "outputs": [
    {
     "name": "stdin",
     "output_type": "stream",
     "text": [
      "Ingrese su nombre:  Santiago\n",
      "Ingrese su edad:  16\n"
     ]
    },
    {
     "name": "stdout",
     "output_type": "stream",
     "text": [
      "En el 2023 Santiago, tendrá 17 años\n"
     ]
    }
   ],
   "source": [
    "txt=input('Ingrese su nombre: ')\n",
    "age=input('Ingrese su edad: ')\n",
    "age=int(age)\n",
    "print('En el 2023 {nombre}, tendrá {edad} años'.format(nombre=txt,edad=age+1))"
   ]
  },
  {
   "cell_type": "code",
   "execution_count": null,
   "id": "40f869cd-989e-47e5-87f8-cdf2515e0d40",
   "metadata": {},
   "outputs": [],
   "source": []
  }
 ],
 "metadata": {
  "kernelspec": {
   "display_name": "Python 3 (ipykernel)",
   "language": "python",
   "name": "python3"
  },
  "language_info": {
   "codemirror_mode": {
    "name": "ipython",
    "version": 3
   },
   "file_extension": ".py",
   "mimetype": "text/x-python",
   "name": "python",
   "nbconvert_exporter": "python",
   "pygments_lexer": "ipython3",
   "version": "3.9.7"
  }
 },
 "nbformat": 4,
 "nbformat_minor": 5
}
