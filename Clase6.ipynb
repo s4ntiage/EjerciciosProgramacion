{
 "cells": [
  {
   "cell_type": "markdown",
   "id": "2ee7b541-dfce-435f-bc7b-98c37df84de3",
   "metadata": {},
   "source": [
    "# Clase 6 "
   ]
  },
  {
   "cell_type": "markdown",
   "id": "23d2b317-30b8-46c0-811c-481fe0477054",
   "metadata": {},
   "source": [
    "## Listas, tuplas y conjuntos \n",
    "Es un tipo de dato que se crea a partir de otros de una manera secuenciada, por ejemplo, si queremos la lista con os digitos debemos escribir como sigue\n",
    "\n",
    "```Python\n",
    "lista=[El1,El2,...,Eln]\n",
    "```\n",
    "\n",
    "Por ejemplo, la lista de digitos sería la siguiente "
   ]
  },
  {
   "cell_type": "code",
   "execution_count": 1,
   "id": "05b9fea6-2adb-4664-b94b-f3ae8b8ca6b2",
   "metadata": {},
   "outputs": [],
   "source": [
    "Digitos=[0,1,2,3,4,5,6,7,8,9]"
   ]
  },
  {
   "cell_type": "code",
   "execution_count": 2,
   "id": "97704641-cd33-461a-999d-49ddb38df15d",
   "metadata": {},
   "outputs": [
    {
     "data": {
      "text/plain": [
       "list"
      ]
     },
     "execution_count": 2,
     "metadata": {},
     "output_type": "execute_result"
    }
   ],
   "source": [
    "type(Digitos)"
   ]
  },
  {
   "cell_type": "markdown",
   "id": "8fd3b59e-08ca-4145-b828-cdba2d0fa92d",
   "metadata": {},
   "source": [
    "Si quiero saber cuantos elementos tiene la lista entonces utilizó *len*"
   ]
  },
  {
   "cell_type": "code",
   "execution_count": 3,
   "id": "c7ed9c79-37a4-4663-a27b-3ef69c5a515e",
   "metadata": {},
   "outputs": [
    {
     "data": {
      "text/plain": [
       "10"
      ]
     },
     "execution_count": 3,
     "metadata": {},
     "output_type": "execute_result"
    }
   ],
   "source": [
    "len(Digitos)"
   ]
  },
  {
   "cell_type": "markdown",
   "id": "d792147f-7a30-467c-8f5e-0e3c96e7e78e",
   "metadata": {},
   "source": [
    "Recordemos que en los textos podiamos determinar el caracter n-enesimo del texto, así:\n"
   ]
  },
  {
   "cell_type": "code",
   "execution_count": 22,
   "id": "4e9db641-dbd6-46a4-b14c-bf4e57b0c09f",
   "metadata": {},
   "outputs": [
    {
     "data": {
      "text/plain": [
       "'hola'"
      ]
     },
     "execution_count": 22,
     "metadata": {},
     "output_type": "execute_result"
    }
   ],
   "source": [
    "texto='hola'\n",
    "texto"
   ]
  },
  {
   "cell_type": "code",
   "execution_count": 23,
   "id": "19cfd0ec-3c3a-41ea-a9b2-cf7d8cfc087c",
   "metadata": {},
   "outputs": [
    {
     "data": {
      "text/plain": [
       "'o'"
      ]
     },
     "execution_count": 23,
     "metadata": {},
     "output_type": "execute_result"
    }
   ],
   "source": [
    "texto[1]"
   ]
  },
  {
   "cell_type": "code",
   "execution_count": 24,
   "id": "a73ab586-ba32-4a2a-be23-2cdd7a2469e0",
   "metadata": {},
   "outputs": [
    {
     "data": {
      "text/plain": [
       "'a'"
      ]
     },
     "execution_count": 24,
     "metadata": {},
     "output_type": "execute_result"
    }
   ],
   "source": [
    "texto[3]"
   ]
  },
  {
   "cell_type": "markdown",
   "id": "2a6cb296-29d7-4cf7-a43b-c2c633c17660",
   "metadata": {},
   "source": [
    "En las listas podemos encontrar algo similar "
   ]
  },
  {
   "cell_type": "code",
   "execution_count": 12,
   "id": "063dd6c4-7c2d-428f-b01f-b4d6fe5e56a1",
   "metadata": {},
   "outputs": [
    {
     "data": {
      "text/plain": [
       "[0, 1, 2, 3, 4, 5, 6, 7, 8, 9]"
      ]
     },
     "execution_count": 12,
     "metadata": {},
     "output_type": "execute_result"
    }
   ],
   "source": [
    "Digitos "
   ]
  },
  {
   "cell_type": "code",
   "execution_count": 13,
   "id": "4fb1677a-a88d-449d-94b7-cd543ae0fe64",
   "metadata": {},
   "outputs": [
    {
     "data": {
      "text/plain": [
       "5"
      ]
     },
     "execution_count": 13,
     "metadata": {},
     "output_type": "execute_result"
    }
   ],
   "source": [
    "Digitos[5]"
   ]
  },
  {
   "cell_type": "code",
   "execution_count": 25,
   "id": "abf9cf6d-ef89-45a9-b9f2-fe39420cefae",
   "metadata": {},
   "outputs": [],
   "source": [
    "Lista2=['uno','dos','tres','cuatro','cinco','seis','siete','ocho','nueve','cero']"
   ]
  },
  {
   "cell_type": "code",
   "execution_count": 26,
   "id": "19e341d1-f03d-4b81-aa71-a8b01c2ba57c",
   "metadata": {},
   "outputs": [
    {
     "data": {
      "text/plain": [
       "'cuatro'"
      ]
     },
     "execution_count": 26,
     "metadata": {},
     "output_type": "execute_result"
    }
   ],
   "source": [
    "Lista2[3]"
   ]
  },
  {
   "cell_type": "markdown",
   "id": "16ab9b99-b41f-4343-b213-db3a6f599080",
   "metadata": {},
   "source": [
    "# Python siempre cuenta desde cero \n",
    "El elemento n de una lista es el elemento n+1-ésimo pues Python siempre cuenta desde cero "
   ]
  },
  {
   "cell_type": "code",
   "execution_count": 27,
   "id": "85e1af55-11dd-457b-b708-d561defe12c9",
   "metadata": {},
   "outputs": [
    {
     "name": "stdout",
     "output_type": "stream",
     "text": [
      "0\n",
      "uno\n"
     ]
    }
   ],
   "source": [
    "# El primer elemento \n",
    "print(Digitos[0])\n",
    "print(Lista2[0])"
   ]
  },
  {
   "cell_type": "code",
   "execution_count": 29,
   "id": "dabd40b4-5aaa-4a93-8e6d-fe012f644bb6",
   "metadata": {},
   "outputs": [
    {
     "name": "stdout",
     "output_type": "stream",
     "text": [
      "9\n",
      "cero\n"
     ]
    }
   ],
   "source": [
    "# El último elemento \n",
    "print(Digitos[9])\n",
    "print(Lista2[9])"
   ]
  },
  {
   "cell_type": "markdown",
   "id": "72a23a93-7fa8-4674-ad6a-589a573a8882",
   "metadata": {},
   "source": [
    "En este ultimo ejercicio consultamos el ultimo elemento, en Python lo podemos hacer usando indices negativos (indice: el valor dentro de los parentesis cuadrados [ ] que permite acceder a los elementos dentro de la lista)"
   ]
  },
  {
   "cell_type": "code",
   "execution_count": 30,
   "id": "557ce8c7-ea4b-41f8-b117-80b7d32ebcb7",
   "metadata": {},
   "outputs": [
    {
     "data": {
      "text/plain": [
       "8"
      ]
     },
     "execution_count": 30,
     "metadata": {},
     "output_type": "execute_result"
    }
   ],
   "source": [
    "Digitos [-2]"
   ]
  },
  {
   "cell_type": "code",
   "execution_count": 31,
   "id": "cb43fd7a-cb96-4d37-9c60-7798641646d3",
   "metadata": {},
   "outputs": [
    {
     "data": {
      "text/plain": [
       "1"
      ]
     },
     "execution_count": 31,
     "metadata": {},
     "output_type": "execute_result"
    }
   ],
   "source": [
    "Digitos [-9]"
   ]
  },
  {
   "cell_type": "markdown",
   "id": "44f9e2d9-b402-4011-9284-114ee63116a4",
   "metadata": {},
   "source": [
    "Los indices negativos permiten que se recorra la lista de forma invertida\n",
    "Python cuenta desde cero, solo si va hacia adelante, cuenta desde menos uno cuando realiza la funcion de contar de forma invertida"
   ]
  },
  {
   "cell_type": "code",
   "execution_count": 32,
   "id": "869b5e58-507a-4c6e-aa21-97ff8dc52948",
   "metadata": {},
   "outputs": [
    {
     "data": {
      "text/plain": [
       "[9, 8, 7, 6, 5, 4, 3, 2, 1, 0]"
      ]
     },
     "execution_count": 32,
     "metadata": {},
     "output_type": "execute_result"
    }
   ],
   "source": [
    "Digitos[::-1]"
   ]
  },
  {
   "cell_type": "markdown",
   "id": "6aa7b223-3a57-47d8-8b90-2ccbdef32daa",
   "metadata": {},
   "source": [
    "Es posible usar un metodo de listas llamado `LISTA.reverse()`"
   ]
  },
  {
   "cell_type": "code",
   "execution_count": 33,
   "id": "59a66f46-b756-42b3-b144-5afd5f47e1eb",
   "metadata": {},
   "outputs": [],
   "source": [
    "Digitos.reverse()"
   ]
  },
  {
   "cell_type": "code",
   "execution_count": 34,
   "id": "84034884-3b58-4990-8a36-c00a0872a6ef",
   "metadata": {},
   "outputs": [
    {
     "data": {
      "text/plain": [
       "[9, 8, 7, 6, 5, 4, 3, 2, 1, 0]"
      ]
     },
     "execution_count": 34,
     "metadata": {},
     "output_type": "execute_result"
    }
   ],
   "source": [
    "Digitos"
   ]
  },
  {
   "cell_type": "markdown",
   "id": "863b7d42-c9b9-498b-90ee-0029a273688a",
   "metadata": {},
   "source": [
    "Podemos contar las veces que aparece un elemento en la lista "
   ]
  },
  {
   "cell_type": "code",
   "execution_count": 37,
   "id": "7db7c09e-d0d2-44c0-b67f-ef2b6229a178",
   "metadata": {},
   "outputs": [
    {
     "data": {
      "text/plain": [
       "1"
      ]
     },
     "execution_count": 37,
     "metadata": {},
     "output_type": "execute_result"
    }
   ],
   "source": [
    "Digitos.count(4)"
   ]
  },
  {
   "cell_type": "code",
   "execution_count": 38,
   "id": "16bf4b95-c904-4eab-965f-1c444d268051",
   "metadata": {},
   "outputs": [],
   "source": [
    "Lista3=[1,2,2,3,3,3,4,4,4,4]"
   ]
  },
  {
   "cell_type": "code",
   "execution_count": 40,
   "id": "d8f9e3a8-54e8-45da-a23b-7a9ce164a64f",
   "metadata": {},
   "outputs": [
    {
     "data": {
      "text/plain": [
       "3"
      ]
     },
     "execution_count": 40,
     "metadata": {},
     "output_type": "execute_result"
    }
   ],
   "source": [
    "Lista3[5]"
   ]
  },
  {
   "cell_type": "code",
   "execution_count": 41,
   "id": "c149a288-c62f-43cb-a5d3-15eddc791d94",
   "metadata": {},
   "outputs": [
    {
     "data": {
      "text/plain": [
       "0"
      ]
     },
     "execution_count": 41,
     "metadata": {},
     "output_type": "execute_result"
    }
   ],
   "source": [
    "Lista3.count(5)"
   ]
  },
  {
   "cell_type": "code",
   "execution_count": 42,
   "id": "ce18cc57-1b0b-4ac0-ba3b-752170f51381",
   "metadata": {},
   "outputs": [
    {
     "data": {
      "text/plain": [
       "3"
      ]
     },
     "execution_count": 42,
     "metadata": {},
     "output_type": "execute_result"
    }
   ],
   "source": [
    "Lista3.count(3)"
   ]
  },
  {
   "cell_type": "code",
   "execution_count": 43,
   "id": "7fc04e1c-5e9e-4021-a496-3b85d87db25a",
   "metadata": {},
   "outputs": [
    {
     "data": {
      "text/plain": [
       "2"
      ]
     },
     "execution_count": 43,
     "metadata": {},
     "output_type": "execute_result"
    }
   ],
   "source": [
    "Lista3.count(2)"
   ]
  },
  {
   "cell_type": "code",
   "execution_count": 44,
   "id": "b012a8b3-2439-45fc-a127-1fa26b4b999b",
   "metadata": {},
   "outputs": [],
   "source": [
    "Lista3.append(5)"
   ]
  },
  {
   "cell_type": "code",
   "execution_count": 45,
   "id": "482ea06f-dd99-42e8-80fe-4d1d51a84179",
   "metadata": {},
   "outputs": [
    {
     "data": {
      "text/plain": [
       "[1, 2, 2, 3, 3, 3, 4, 4, 4, 4, 5]"
      ]
     },
     "execution_count": 45,
     "metadata": {},
     "output_type": "execute_result"
    }
   ],
   "source": [
    "Lista3"
   ]
  },
  {
   "cell_type": "code",
   "execution_count": 46,
   "id": "32613698-0b7e-49dd-92d0-a8247f90f208",
   "metadata": {},
   "outputs": [],
   "source": [
    "Lista3.append(8)"
   ]
  },
  {
   "cell_type": "code",
   "execution_count": 47,
   "id": "6e52930a-8797-4c40-bd4e-ffafbcb94870",
   "metadata": {},
   "outputs": [
    {
     "data": {
      "text/plain": [
       "[1, 2, 2, 3, 3, 3, 4, 4, 4, 4, 5, 8]"
      ]
     },
     "execution_count": 47,
     "metadata": {},
     "output_type": "execute_result"
    }
   ],
   "source": [
    "Lista3"
   ]
  },
  {
   "cell_type": "markdown",
   "id": "d9d43e0c-6e0e-4edc-822a-fa65566ce67f",
   "metadata": {},
   "source": [
    "Con `append` puedo agregar elementos a una lista al final "
   ]
  },
  {
   "cell_type": "code",
   "execution_count": 49,
   "id": "000db616-7578-4132-9a78-8743250f2819",
   "metadata": {},
   "outputs": [],
   "source": [
    "Lista3.append(6)"
   ]
  },
  {
   "cell_type": "code",
   "execution_count": 50,
   "id": "1e77334c-6cce-42e6-a0da-e58783f8d413",
   "metadata": {},
   "outputs": [
    {
     "data": {
      "text/plain": [
       "[1, 2, 2, 3, 3, 3, 4, 4, 4, 4, 5, 8, 6]"
      ]
     },
     "execution_count": 50,
     "metadata": {},
     "output_type": "execute_result"
    }
   ],
   "source": [
    "Lista3"
   ]
  },
  {
   "cell_type": "markdown",
   "id": "e372f349-9aac-47a9-b192-16fe83b4bcc6",
   "metadata": {},
   "source": [
    "Si Quiero agregar al inicio utilizo `insert`"
   ]
  },
  {
   "cell_type": "code",
   "execution_count": 51,
   "id": "8d54a82e-ed02-4cef-846c-562ad10adcd5",
   "metadata": {},
   "outputs": [],
   "source": [
    "Lista3.insert(3,10)"
   ]
  },
  {
   "cell_type": "code",
   "execution_count": 52,
   "id": "56057781-d5c7-432f-b1b2-2a1b9d16ba75",
   "metadata": {},
   "outputs": [
    {
     "data": {
      "text/plain": [
       "['uno',\n",
       " 'dos',\n",
       " 'tres',\n",
       " 'cuatro',\n",
       " 'cinco',\n",
       " 'seis',\n",
       " 'siete',\n",
       " 'ocho',\n",
       " 'nueve',\n",
       " 'cero']"
      ]
     },
     "execution_count": 52,
     "metadata": {},
     "output_type": "execute_result"
    }
   ],
   "source": [
    "Lista2"
   ]
  },
  {
   "cell_type": "code",
   "execution_count": 60,
   "id": "657d54f1-4d22-46e1-92a7-e08a12a6ee5f",
   "metadata": {},
   "outputs": [],
   "source": [
    "Lista2.insert(5,'hola')"
   ]
  },
  {
   "cell_type": "code",
   "execution_count": 62,
   "id": "4d4bf6a8-979a-48fb-83aa-d7013b756c90",
   "metadata": {},
   "outputs": [
    {
     "data": {
      "text/plain": [
       "['uno',\n",
       " 'dos',\n",
       " 'tres',\n",
       " 'cuatro',\n",
       " 'cinco',\n",
       " 'hola',\n",
       " 'hola',\n",
       " 'hola',\n",
       " 'seis',\n",
       " 'siete',\n",
       " 'ocho',\n",
       " 'nueve',\n",
       " 'cero']"
      ]
     },
     "execution_count": 62,
     "metadata": {},
     "output_type": "execute_result"
    }
   ],
   "source": [
    "Lista2"
   ]
  },
  {
   "cell_type": "markdown",
   "id": "7b1d27c7-b21d-428e-bf7f-b9095d9b2a38",
   "metadata": {},
   "source": [
    "`Insert` funciona de manera que ingresa en la posicion que pongamos primero, lo que queramos que ponga "
   ]
  },
  {
   "cell_type": "code",
   "execution_count": 56,
   "id": "cb6e7bc0-d271-4c50-ba73-3801143d2dd2",
   "metadata": {},
   "outputs": [
    {
     "data": {
      "text/plain": [
       "['uno',\n",
       " 'dos',\n",
       " 'tres',\n",
       " 'cuatro',\n",
       " 'cinco',\n",
       " 'seis',\n",
       " 'siete',\n",
       " 'ocho',\n",
       " 'nueve',\n",
       " 'cero']"
      ]
     },
     "execution_count": 56,
     "metadata": {},
     "output_type": "execute_result"
    }
   ],
   "source": [
    "Lista2.remove('hola')\n",
    "Lista2"
   ]
  },
  {
   "cell_type": "markdown",
   "id": "e5408f68-0027-4764-848c-f9ae9c14995f",
   "metadata": {},
   "source": [
    "`Remove` elimina de la lista lo que se le indique, el primer elemento indicado que encuentre dentro de la lista "
   ]
  },
  {
   "cell_type": "code",
   "execution_count": 65,
   "id": "76c015dd-d453-4217-9b71-d560277ea873",
   "metadata": {},
   "outputs": [
    {
     "data": {
      "text/plain": [
       "['uno',\n",
       " 'dos',\n",
       " 'tres',\n",
       " 'cuatro',\n",
       " 'cinco',\n",
       " 'hola',\n",
       " 'hola',\n",
       " 'hola',\n",
       " 'seis',\n",
       " 'siete',\n",
       " 'ocho',\n",
       " 'nueve',\n",
       " 'cero']"
      ]
     },
     "execution_count": 65,
     "metadata": {},
     "output_type": "execute_result"
    }
   ],
   "source": [
    "Lista2"
   ]
  },
  {
   "cell_type": "code",
   "execution_count": 66,
   "id": "83935ecc-fdca-4f40-81b3-50d7cc9424cd",
   "metadata": {},
   "outputs": [
    {
     "data": {
      "text/plain": [
       "'cinco'"
      ]
     },
     "execution_count": 66,
     "metadata": {},
     "output_type": "execute_result"
    }
   ],
   "source": [
    "Lista2.pop(4)"
   ]
  },
  {
   "cell_type": "code",
   "execution_count": 67,
   "id": "a4f97ac3-fc85-4c0c-bf39-61e6615681d8",
   "metadata": {},
   "outputs": [
    {
     "data": {
      "text/plain": [
       "['uno',\n",
       " 'dos',\n",
       " 'tres',\n",
       " 'cuatro',\n",
       " 'hola',\n",
       " 'hola',\n",
       " 'hola',\n",
       " 'seis',\n",
       " 'siete',\n",
       " 'ocho',\n",
       " 'nueve',\n",
       " 'cero']"
      ]
     },
     "execution_count": 67,
     "metadata": {},
     "output_type": "execute_result"
    }
   ],
   "source": [
    "Lista2"
   ]
  },
  {
   "cell_type": "code",
   "execution_count": 70,
   "id": "6b80518e-321c-442a-ba62-88b184f148f7",
   "metadata": {},
   "outputs": [],
   "source": [
    "Lista2.remove('hola')"
   ]
  },
  {
   "cell_type": "code",
   "execution_count": 71,
   "id": "51294c25-2fb5-4ede-ad2c-c8d67a7c09c3",
   "metadata": {},
   "outputs": [
    {
     "data": {
      "text/plain": [
       "['uno', 'dos', 'tres', 'cuatro', 'seis', 'siete', 'ocho', 'nueve', 'cero']"
      ]
     },
     "execution_count": 71,
     "metadata": {},
     "output_type": "execute_result"
    }
   ],
   "source": [
    "Lista2"
   ]
  },
  {
   "cell_type": "markdown",
   "id": "bc992384-a18a-42bf-938b-b2581e90efb1",
   "metadata": {},
   "source": [
    "`pop` funciona similar al remove, solo que este elimina el archivo es deacuerdo al numero que se le indique, no por el nombre "
   ]
  },
  {
   "cell_type": "code",
   "execution_count": 72,
   "id": "932625cd-ce92-4ceb-a33c-230f4a4a4414",
   "metadata": {},
   "outputs": [
    {
     "data": {
      "text/plain": [
       "'cuatro'"
      ]
     },
     "execution_count": 72,
     "metadata": {},
     "output_type": "execute_result"
    }
   ],
   "source": [
    "Lista2.pop(3)"
   ]
  },
  {
   "cell_type": "code",
   "execution_count": 73,
   "id": "f80b600d-9f06-4ced-95b8-c962e2e1948d",
   "metadata": {},
   "outputs": [
    {
     "data": {
      "text/plain": [
       "['uno', 'dos', 'tres', 'seis', 'siete', 'ocho', 'nueve', 'cero']"
      ]
     },
     "execution_count": 73,
     "metadata": {},
     "output_type": "execute_result"
    }
   ],
   "source": [
    "Lista2"
   ]
  },
  {
   "cell_type": "code",
   "execution_count": 74,
   "id": "91443cee-b9a6-423f-8003-4576df78b783",
   "metadata": {},
   "outputs": [
    {
     "data": {
      "text/plain": [
       "['uno',\n",
       " 'dos',\n",
       " 'tres',\n",
       " 'seis',\n",
       " 'siete',\n",
       " 'ocho',\n",
       " 'nueve',\n",
       " 'cero',\n",
       " 1,\n",
       " 2,\n",
       " 2,\n",
       " 10,\n",
       " 3,\n",
       " 3,\n",
       " 3,\n",
       " 4,\n",
       " 4,\n",
       " 4,\n",
       " 4,\n",
       " 5,\n",
       " 8,\n",
       " 6]"
      ]
     },
     "execution_count": 74,
     "metadata": {},
     "output_type": "execute_result"
    }
   ],
   "source": [
    "Lista2+Lista3"
   ]
  },
  {
   "cell_type": "markdown",
   "id": "0922ed45-9b64-44f2-8d91-c0482a0e9403",
   "metadata": {},
   "source": [
    "Con el operador + se concatenan las listas, también se puede usar el metodo `extend`"
   ]
  },
  {
   "cell_type": "code",
   "execution_count": 78,
   "id": "b7d91567-9726-4f38-b8fe-40e3949f1aed",
   "metadata": {},
   "outputs": [
    {
     "data": {
      "text/plain": [
       "['uno',\n",
       " 'dos',\n",
       " 'tres',\n",
       " 'seis',\n",
       " 'siete',\n",
       " 'ocho',\n",
       " 'nueve',\n",
       " 'cero',\n",
       " 1,\n",
       " 2,\n",
       " 2,\n",
       " 10,\n",
       " 3,\n",
       " 3,\n",
       " 3,\n",
       " 4,\n",
       " 4,\n",
       " 4,\n",
       " 4,\n",
       " 5,\n",
       " 8,\n",
       " 6,\n",
       " 1,\n",
       " 2,\n",
       " 2,\n",
       " 10,\n",
       " 3,\n",
       " 3,\n",
       " 3,\n",
       " 4,\n",
       " 4,\n",
       " 4,\n",
       " 4,\n",
       " 5,\n",
       " 8,\n",
       " 6,\n",
       " 'uno',\n",
       " 'dos',\n",
       " 'tres',\n",
       " 'seis',\n",
       " 'siete',\n",
       " 'ocho',\n",
       " 'nueve',\n",
       " 'cero',\n",
       " 1,\n",
       " 2,\n",
       " 2,\n",
       " 10,\n",
       " 3,\n",
       " 3,\n",
       " 3,\n",
       " 4,\n",
       " 4,\n",
       " 4,\n",
       " 4,\n",
       " 5,\n",
       " 8,\n",
       " 6]"
      ]
     },
     "execution_count": 78,
     "metadata": {},
     "output_type": "execute_result"
    }
   ],
   "source": [
    "Lista2.extend(Lista3)\n",
    "Lista2"
   ]
  },
  {
   "cell_type": "markdown",
   "id": "64dc3070-3f4b-49cf-90a0-ea3c72b5b04f",
   "metadata": {},
   "source": [
    "*Cuando uno corre dos o mas veces algun codigo, el resultado se dará las veces que se ejecute o se corra el código*"
   ]
  },
  {
   "cell_type": "markdown",
   "id": "ed736151-f617-4fef-8c81-6de44a3e05cd",
   "metadata": {},
   "source": [
    "## Condicionales \n",
    "\n",
    "El condicional es una estructura de control que permite ejecutar una subrutina según se satisfaga una condicion inicial:\n",
    "\n",
    "'Si___condición__entonces___resultado'"
   ]
  },
  {
   "cell_type": "code",
   "execution_count": 81,
   "id": "61defd65-c8e8-49c7-bd12-28aae34d4848",
   "metadata": {},
   "outputs": [],
   "source": [
    "if 4>5:\n",
    "    print('Cuatro es mayor que cinco')"
   ]
  },
  {
   "cell_type": "code",
   "execution_count": 80,
   "id": "9572e329-cfd3-4e1c-8b9e-89154029b829",
   "metadata": {},
   "outputs": [
    {
     "name": "stdout",
     "output_type": "stream",
     "text": [
      "Cuatro es menor que cinco\n"
     ]
    }
   ],
   "source": [
    "if 4<5:\n",
    "    print('Cuatro es menor que cinco')"
   ]
  },
  {
   "cell_type": "markdown",
   "id": "0972b2e5-90b6-4265-9416-409d278a5f8f",
   "metadata": {},
   "source": [
    "## Bucle \n",
    "\n",
    "Un bucle es una estructura especial que permite recorrer los elementos de un iterable, en particular podemos recorrer los elementos de una lista: \n",
    "\n",
    "```Python \n",
    "for i in Lista:\n",
    "    ejercicio_i\n",
    "    resp\n",
    "fin \n",
    "```\n",
    "    "
   ]
  },
  {
   "cell_type": "code",
   "execution_count": 98,
   "id": "ebc1ed00-0f75-47b7-86ef-94ebc6e8610d",
   "metadata": {},
   "outputs": [
    {
     "data": {
      "text/plain": [
       "['uno', 'dos', 'tres', 'seis', 'siete', 'ocho', 'nueve', 'cero']"
      ]
     },
     "execution_count": 98,
     "metadata": {},
     "output_type": "execute_result"
    }
   ],
   "source": [
    "Lista2=Lista2[:8]\n",
    "Lista2"
   ]
  },
  {
   "cell_type": "code",
   "execution_count": 97,
   "id": "9e066303-cd2c-441b-8204-b188fd8343ca",
   "metadata": {},
   "outputs": [
    {
     "name": "stdout",
     "output_type": "stream",
     "text": [
      "una\n",
      "----\n",
      "das\n",
      "----\n",
      "tres\n",
      "----\n",
      "seis\n",
      "----\n",
      "siete\n",
      "----\n",
      "acha\n",
      "----\n",
      "nueve\n",
      "----\n",
      "cera\n",
      "----\n"
     ]
    }
   ],
   "source": [
    "for i in Lista2:\n",
    "    print(i.replace('o','a'))\n",
    "    print('----')"
   ]
  },
  {
   "cell_type": "markdown",
   "id": "b38d92d8-06a5-49dd-b7ec-e9ca4472571b",
   "metadata": {},
   "source": [
    "Un iterable espacial:"
   ]
  },
  {
   "cell_type": "markdown",
   "id": "e7e06112-84ba-4e08-b5c8-d413529efaf4",
   "metadata": {},
   "source": [
    "No todas las secuencias (iterables) se definen como listas, tambien se pueden utilizar funciones previas que generan las listas secuenciadas de manera automatica"
   ]
  },
  {
   "cell_type": "markdown",
   "id": "61511f5b-e21a-45f1-9bbe-f0294a8a2c50",
   "metadata": {},
   "source": [
    "`range(m,n,p)` es un objeto de python, lo convertimos en lista con list para entender que contiene:"
   ]
  },
  {
   "cell_type": "code",
   "execution_count": 87,
   "id": "4e582731-9e0c-443b-b77c-6fa8d3fc91e8",
   "metadata": {},
   "outputs": [
    {
     "data": {
      "text/plain": [
       "range(0, 10)"
      ]
     },
     "execution_count": 87,
     "metadata": {},
     "output_type": "execute_result"
    }
   ],
   "source": [
    "range(10) # range(n)=range(0,n)\n",
    "        # genera una lista de enteros ordenado \n",
    "    # iniciamos en cero, terminamos en n-1"
   ]
  },
  {
   "cell_type": "code",
   "execution_count": 83,
   "id": "51654c9a-504b-4766-b710-90ec8007204d",
   "metadata": {},
   "outputs": [
    {
     "data": {
      "text/plain": [
       "[0, 1, 2, 3, 4, 5, 6, 7, 8, 9]"
      ]
     },
     "execution_count": 83,
     "metadata": {},
     "output_type": "execute_result"
    }
   ],
   "source": [
    "list(range(10))"
   ]
  },
  {
   "cell_type": "code",
   "execution_count": 89,
   "id": "bc040888-4963-48c0-83a7-54ead8a6694b",
   "metadata": {},
   "outputs": [
    {
     "data": {
      "text/plain": [
       "[2, 3, 4, 5, 6, 7, 8, 9, 10]"
      ]
     },
     "execution_count": 89,
     "metadata": {},
     "output_type": "execute_result"
    }
   ],
   "source": [
    "list(range(2,11)) # range(n,n)\n",
    "# genera una lista de enteros ordenados \n",
    "# iniciando en 0 terminando en n-1 "
   ]
  },
  {
   "cell_type": "code",
   "execution_count": 90,
   "id": "3af4d9ca-611b-4081-a75e-71d575004b5a",
   "metadata": {},
   "outputs": [
    {
     "data": {
      "text/plain": [
       "[2, 5, 8]"
      ]
     },
     "execution_count": 90,
     "metadata": {},
     "output_type": "execute_result"
    }
   ],
   "source": [
    "list(range(2,10,3)) # range(m,n,p)\n",
    "# genera una lista de numeros ordenados \n",
    "# iniciando en 2 terminando en n-1 "
   ]
  },
  {
   "cell_type": "code",
   "execution_count": 88,
   "id": "9089f864-e08b-4e6b-93e2-4ff496cea11f",
   "metadata": {},
   "outputs": [
    {
     "data": {
      "text/plain": [
       "[2, 4, 6, 8]"
      ]
     },
     "execution_count": 88,
     "metadata": {},
     "output_type": "execute_result"
    }
   ],
   "source": [
    "list(range(2,10,2))"
   ]
  },
  {
   "cell_type": "code",
   "execution_count": 91,
   "id": "c18f4dd1-5947-40f9-96d4-1fd965cdf517",
   "metadata": {},
   "outputs": [],
   "source": [
    "Lista_100=range(1,101)"
   ]
  },
  {
   "cell_type": "code",
   "execution_count": 92,
   "id": "2242a744-670f-44be-bcad-7bea3f5c4607",
   "metadata": {},
   "outputs": [
    {
     "data": {
      "text/plain": [
       "range(1, 101)"
      ]
     },
     "execution_count": 92,
     "metadata": {},
     "output_type": "execute_result"
    }
   ],
   "source": [
    "Lista_100"
   ]
  },
  {
   "cell_type": "markdown",
   "id": "3566416f-aa74-4f9c-9446-cbdbe9e2a7a4",
   "metadata": {},
   "source": [
    "Usando `for` podemos hacer cosas interesantes "
   ]
  },
  {
   "cell_type": "code",
   "execution_count": 100,
   "id": "655cdcd3-ec23-4234-b60d-dbbbda0ec9c7",
   "metadata": {},
   "outputs": [
    {
     "name": "stdout",
     "output_type": "stream",
     "text": [
      "6\n",
      "12\n",
      "18\n",
      "24\n",
      "30\n",
      "36\n",
      "42\n",
      "48\n",
      "54\n",
      "60\n",
      "66\n",
      "72\n",
      "78\n",
      "84\n",
      "90\n",
      "96\n"
     ]
    }
   ],
   "source": [
    "for i in range (1,101):\n",
    "    if i%6==0:\n",
    "        print(i)"
   ]
  },
  {
   "cell_type": "code",
   "execution_count": 102,
   "id": "3c17bac7-33ee-4659-ab87-8e0630a6717d",
   "metadata": {},
   "outputs": [
    {
     "name": "stdout",
     "output_type": "stream",
     "text": [
      "El numero que vamos a estudiar es  1\n",
      "1 es un numero que al dividirse por 3 tiene residuo 1\n",
      "*************************\n",
      "\n",
      "\n",
      "El numero que vamos a estudiar es  2\n",
      "2 es un numero que al dividirse por 3 tiene residuo 2\n",
      "*************************\n",
      "\n",
      "\n",
      "El numero que vamos a estudiar es  3\n",
      "3 es un numero que al dividirse por 3 tiene residuo 0\n",
      "Este numero es especial, porque es un multiplo de 3\n",
      "*************************\n",
      "\n",
      "\n",
      "El numero que vamos a estudiar es  4\n",
      "4 es un numero que al dividirse por 3 tiene residuo 1\n",
      "*************************\n",
      "\n",
      "\n",
      "El numero que vamos a estudiar es  5\n",
      "5 es un numero que al dividirse por 3 tiene residuo 2\n",
      "*************************\n",
      "\n",
      "\n",
      "El numero que vamos a estudiar es  6\n",
      "6 es un numero que al dividirse por 3 tiene residuo 0\n",
      "Este numero es especial, porque es un multiplo de 3\n",
      "*************************\n",
      "\n",
      "\n",
      "El numero que vamos a estudiar es  7\n",
      "7 es un numero que al dividirse por 3 tiene residuo 1\n",
      "*************************\n",
      "\n",
      "\n",
      "El numero que vamos a estudiar es  8\n",
      "8 es un numero que al dividirse por 3 tiene residuo 2\n",
      "*************************\n",
      "\n",
      "\n",
      "El numero que vamos a estudiar es  9\n",
      "9 es un numero que al dividirse por 3 tiene residuo 0\n",
      "Este numero es especial, porque es un multiplo de 3\n",
      "*************************\n",
      "\n",
      "\n",
      "El numero que vamos a estudiar es  10\n",
      "10 es un numero que al dividirse por 3 tiene residuo 1\n",
      "*************************\n",
      "\n",
      "\n",
      "El numero que vamos a estudiar es  11\n",
      "11 es un numero que al dividirse por 3 tiene residuo 2\n",
      "*************************\n",
      "\n",
      "\n",
      "El numero que vamos a estudiar es  12\n",
      "12 es un numero que al dividirse por 3 tiene residuo 0\n",
      "Este numero es especial, porque es un multiplo de 3\n",
      "*************************\n",
      "\n",
      "\n",
      "El numero que vamos a estudiar es  13\n",
      "13 es un numero que al dividirse por 3 tiene residuo 1\n",
      "*************************\n",
      "\n",
      "\n",
      "El numero que vamos a estudiar es  14\n",
      "14 es un numero que al dividirse por 3 tiene residuo 2\n",
      "*************************\n",
      "\n",
      "\n",
      "El numero que vamos a estudiar es  15\n",
      "15 es un numero que al dividirse por 3 tiene residuo 0\n",
      "Este numero es especial, porque es un multiplo de 3\n",
      "*************************\n",
      "\n",
      "\n",
      "El numero que vamos a estudiar es  16\n",
      "16 es un numero que al dividirse por 3 tiene residuo 1\n",
      "*************************\n",
      "\n",
      "\n",
      "El numero que vamos a estudiar es  17\n",
      "17 es un numero que al dividirse por 3 tiene residuo 2\n",
      "*************************\n",
      "\n",
      "\n",
      "El numero que vamos a estudiar es  18\n",
      "18 es un numero que al dividirse por 3 tiene residuo 0\n",
      "Este numero es especial, porque es un multiplo de 3\n",
      "*************************\n",
      "\n",
      "\n",
      "El numero que vamos a estudiar es  19\n",
      "19 es un numero que al dividirse por 3 tiene residuo 1\n",
      "*************************\n",
      "\n",
      "\n",
      "El numero que vamos a estudiar es  20\n",
      "20 es un numero que al dividirse por 3 tiene residuo 2\n",
      "*************************\n",
      "\n",
      "\n"
     ]
    }
   ],
   "source": [
    "for i in range (1,21):\n",
    "    print('El numero que vamos a estudiar es ',i)\n",
    "    \n",
    "    print(i, 'es un numero que al dividirse por 3 tiene residuo',i%3)\n",
    "    if i%3==0:\n",
    "        print('Este numero es especial, porque es un multiplo de 3')\n",
    "    print('*************************')\n",
    "    print()\n",
    "    print()"
   ]
  },
  {
   "cell_type": "code",
   "execution_count": null,
   "id": "7d26dc21-457b-40a1-b82d-a4af4931115f",
   "metadata": {},
   "outputs": [],
   "source": []
  }
 ],
 "metadata": {
  "kernelspec": {
   "display_name": "Python 3 (ipykernel)",
   "language": "python",
   "name": "python3"
  },
  "language_info": {
   "codemirror_mode": {
    "name": "ipython",
    "version": 3
   },
   "file_extension": ".py",
   "mimetype": "text/x-python",
   "name": "python",
   "nbconvert_exporter": "python",
   "pygments_lexer": "ipython3",
   "version": "3.9.7"
  }
 },
 "nbformat": 4,
 "nbformat_minor": 5
}
