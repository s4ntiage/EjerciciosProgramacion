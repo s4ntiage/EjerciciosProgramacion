{
 "cells": [
  {
   "cell_type": "markdown",
   "id": "2be6c8cd",
   "metadata": {},
   "source": [
    "# Algoritmos \n",
    "Lo que hace un programador es convertir soluciones que pueda seguir un computador \n",
    "\n",
    "Algoritmos y pseudocodigos se dan en el lenguaje de diagramas de flujo (pseudoalgoritmo) \n",
    "\n",
    "pwd permite ver el directorio de la pagina actual \n",
    "\n",
    "consultar a google cuando no me acuerde de algun codigo \n",
    "lenguaje de consola o lenguaje bash \n",
    "\n",
    "pwd \n",
    "cd nombre de la carpeta a la que quiero entrat ej: cd Documents \n",
    "mkdir nombre del archivo al que se quiere entrar ej: mkdir prueba \n",
    "cd nombre del archivo al que se quiere acceder ej: cd prueba \n",
    "ni testfile \n",
    "set centen \n",
    "\n",
    "el numero pi no se puede ejecutar desde el computador, pues no lo entiende; pero se puede traer atravez de un paquete \n",
    "\n",
    "## Cuales son los archivos .Bat \n",
    "consiste en un archivo de texto que ejecuta secuencias de comandos, con el objetivo, habitualmente, de automatizar tareas que requieran un largo número de instrucciones (desde renombrado masivo de archivos a la instalación de un programa); así, al recurrir a un *.bat, bastará con escribirlo una vez y podremos ahorrar tiempo y evitar errores tipográficos.\n",
    "\n",
    "\n",
    "\n",
    "\n",
    "Python permite actuar como una calculadora "
   ]
  },
  {
   "cell_type": "code",
   "execution_count": 1,
   "id": "db9e1386",
   "metadata": {},
   "outputs": [
    {
     "data": {
      "text/plain": [
       "8"
      ]
     },
     "execution_count": 1,
     "metadata": {},
     "output_type": "execute_result"
    }
   ],
   "source": [
    "## numeros \n",
    "8"
   ]
  },
  {
   "cell_type": "code",
   "execution_count": 2,
   "id": "b5d33668",
   "metadata": {},
   "outputs": [
    {
     "data": {
      "text/plain": [
       "int"
      ]
     },
     "execution_count": 2,
     "metadata": {},
     "output_type": "execute_result"
    }
   ],
   "source": [
    "type (8)"
   ]
  },
  {
   "cell_type": "code",
   "execution_count": 3,
   "id": "adb9b40c",
   "metadata": {},
   "outputs": [
    {
     "data": {
      "text/plain": [
       "3.5"
      ]
     },
     "execution_count": 3,
     "metadata": {},
     "output_type": "execute_result"
    }
   ],
   "source": [
    "## decimales \n",
    "3.5"
   ]
  },
  {
   "cell_type": "markdown",
   "id": "106a7add",
   "metadata": {},
   "source": [
    "Los numeros interactuan con nosotros de diferentes maneras, pero la mas importante es a traves de sus operaciones "
   ]
  },
  {
   "cell_type": "code",
   "execution_count": 4,
   "id": "974312d1",
   "metadata": {},
   "outputs": [
    {
     "data": {
      "text/plain": [
       "7.2"
      ]
     },
     "execution_count": 4,
     "metadata": {},
     "output_type": "execute_result"
    }
   ],
   "source": [
    "## suma \n",
    "3.2+4"
   ]
  },
  {
   "cell_type": "code",
   "execution_count": 5,
   "id": "18c28202",
   "metadata": {},
   "outputs": [
    {
     "data": {
      "text/plain": [
       "1"
      ]
     },
     "execution_count": 5,
     "metadata": {},
     "output_type": "execute_result"
    }
   ],
   "source": [
    "## resta \n",
    "4-3"
   ]
  },
  {
   "cell_type": "code",
   "execution_count": 6,
   "id": "77d0b7c9",
   "metadata": {},
   "outputs": [
    {
     "data": {
      "text/plain": [
       "40"
      ]
     },
     "execution_count": 6,
     "metadata": {},
     "output_type": "execute_result"
    }
   ],
   "source": [
    "# multiplicacion \n",
    "5*8"
   ]
  },
  {
   "cell_type": "code",
   "execution_count": 7,
   "id": "3520a361",
   "metadata": {},
   "outputs": [
    {
     "data": {
      "text/plain": [
       "2.0"
      ]
     },
     "execution_count": 7,
     "metadata": {},
     "output_type": "execute_result"
    }
   ],
   "source": [
    "# division \n",
    "8/4"
   ]
  },
  {
   "cell_type": "markdown",
   "id": "71fa50a1",
   "metadata": {},
   "source": [
    "Los numeros enteros y flotantes se pueden determinar a traves del proceso, las operaciones seran correspondientes a lo que se ingrese dentro de estas, a excepcion de las divisiones, que siempre daran numeros flotantes, por mas que se ingresen dos numeros enteros "
   ]
  },
  {
   "cell_type": "code",
   "execution_count": 8,
   "id": "277b2949",
   "metadata": {},
   "outputs": [
    {
     "data": {
      "text/plain": [
       "8"
      ]
     },
     "execution_count": 8,
     "metadata": {},
     "output_type": "execute_result"
    }
   ],
   "source": [
    "## potencia \n",
    "2**3"
   ]
  },
  {
   "cell_type": "code",
   "execution_count": 9,
   "id": "8216a127",
   "metadata": {},
   "outputs": [
    {
     "data": {
      "text/plain": [
       "5.0"
      ]
     },
     "execution_count": 9,
     "metadata": {},
     "output_type": "execute_result"
    }
   ],
   "source": [
    "## raices (potencias de fracciones)\n",
    "25**(1/2)"
   ]
  },
  {
   "cell_type": "code",
   "execution_count": 10,
   "id": "8a09db0c",
   "metadata": {},
   "outputs": [
    {
     "data": {
      "text/plain": [
       "6"
      ]
     },
     "execution_count": 10,
     "metadata": {},
     "output_type": "execute_result"
    }
   ],
   "source": [
    "## division entera \n",
    "20//3"
   ]
  },
  {
   "cell_type": "code",
   "execution_count": 11,
   "id": "154b42fe",
   "metadata": {},
   "outputs": [
    {
     "data": {
      "text/plain": [
       "2"
      ]
     },
     "execution_count": 11,
     "metadata": {},
     "output_type": "execute_result"
    }
   ],
   "source": [
    "## division entera (residuo)\n",
    "20%3"
   ]
  },
  {
   "cell_type": "code",
   "execution_count": 14,
   "id": "523fa9a5",
   "metadata": {},
   "outputs": [
    {
     "ename": "SyntaxError",
     "evalue": "invalid syntax (590919386.py, line 2)",
     "output_type": "error",
     "traceback": [
      "\u001b[0;36m  File \u001b[0;32m\"/var/folders/8f/_3b5qr196_v92dhrlg260pz00000gn/T/ipykernel_9136/590919386.py\"\u001b[0;36m, line \u001b[0;32m2\u001b[0m\n\u001b[0;31m    (15%)=0.15*200\u001b[0m\n\u001b[0m        ^\u001b[0m\n\u001b[0;31mSyntaxError\u001b[0m\u001b[0;31m:\u001b[0m invalid syntax\n"
     ]
    }
   ],
   "source": [
    "## porcentaje \n",
    "(15%)=0.15*200 "
   ]
  },
  {
   "cell_type": "code",
   "execution_count": 15,
   "id": "712746c3",
   "metadata": {},
   "outputs": [
    {
     "data": {
      "text/plain": [
       "36.0"
      ]
     },
     "execution_count": 15,
     "metadata": {},
     "output_type": "execute_result"
    }
   ],
   "source": [
    "0.45*80 "
   ]
  },
  {
   "cell_type": "markdown",
   "id": "fd01c86c",
   "metadata": {},
   "source": [
    "## Cadenas de caracteres \n",
    "Corresponde a las cadenas de texto, para evitar confusion con las diferentes variables de python se almacenan entre comillas dobles o simples "
   ]
  },
  {
   "cell_type": "code",
   "execution_count": 16,
   "id": "d6442cc9",
   "metadata": {},
   "outputs": [
    {
     "data": {
      "text/plain": [
       "'Cadenas simples'"
      ]
     },
     "execution_count": 16,
     "metadata": {},
     "output_type": "execute_result"
    }
   ],
   "source": [
    "\"Cadenas simples\""
   ]
  },
  {
   "cell_type": "code",
   "execution_count": 20,
   "id": "997cb1e3",
   "metadata": {},
   "outputs": [
    {
     "ename": "SyntaxError",
     "evalue": "invalid syntax (2907741729.py, line 2)",
     "output_type": "error",
     "traceback": [
      "\u001b[0;36m  File \u001b[0;32m\"/var/folders/8f/_3b5qr196_v92dhrlg260pz00000gn/T/ipykernel_9136/2907741729.py\"\u001b[0;36m, line \u001b[0;32m2\u001b[0m\n\u001b[0;31m    (hola profesor)\u001b[0m\n\u001b[0m          ^\u001b[0m\n\u001b[0;31mSyntaxError\u001b[0m\u001b[0;31m:\u001b[0m invalid syntax\n"
     ]
    }
   ],
   "source": [
    "#type\n",
    "(hola profesor)"
   ]
  },
  {
   "cell_type": "code",
   "execution_count": 21,
   "id": "5e391de9",
   "metadata": {},
   "outputs": [
    {
     "data": {
      "text/plain": [
       "'hola-----externado'"
      ]
     },
     "execution_count": 21,
     "metadata": {},
     "output_type": "execute_result"
    }
   ],
   "source": [
    "## Operaciones entre textos (Suma - concatenacion)\n",
    "\"hola\"+\"-----\"+\"externado\""
   ]
  },
  {
   "cell_type": "markdown",
   "id": "aefc61ac",
   "metadata": {},
   "source": [
    "### Variables  \n",
    "Sirven para guardar informacion en Python, trabajan de la siguiente manera: \n",
    "\n",
    "[Nombre_Variable]=[Valor_de_la_variable]"
   ]
  },
  {
   "cell_type": "code",
   "execution_count": 22,
   "id": "e2b65d09",
   "metadata": {},
   "outputs": [],
   "source": [
    "x=10"
   ]
  },
  {
   "cell_type": "code",
   "execution_count": 23,
   "id": "4f76e293",
   "metadata": {},
   "outputs": [
    {
     "data": {
      "text/plain": [
       "15"
      ]
     },
     "execution_count": 23,
     "metadata": {},
     "output_type": "execute_result"
    }
   ],
   "source": [
    "x+5"
   ]
  },
  {
   "cell_type": "code",
   "execution_count": 24,
   "id": "05fb8515",
   "metadata": {},
   "outputs": [
    {
     "data": {
      "text/plain": [
       "20"
      ]
     },
     "execution_count": 24,
     "metadata": {},
     "output_type": "execute_result"
    }
   ],
   "source": [
    "x*2"
   ]
  },
  {
   "cell_type": "code",
   "execution_count": 25,
   "id": "6abf717c",
   "metadata": {},
   "outputs": [
    {
     "data": {
      "text/plain": [
       "2.0"
      ]
     },
     "execution_count": 25,
     "metadata": {},
     "output_type": "execute_result"
    }
   ],
   "source": [
    "x/5"
   ]
  },
  {
   "cell_type": "code",
   "execution_count": 26,
   "id": "3597d5ac",
   "metadata": {},
   "outputs": [
    {
     "data": {
      "text/plain": [
       "3"
      ]
     },
     "execution_count": 26,
     "metadata": {},
     "output_type": "execute_result"
    }
   ],
   "source": [
    "x//3"
   ]
  },
  {
   "cell_type": "code",
   "execution_count": null,
   "id": "51d92658",
   "metadata": {},
   "outputs": [],
   "source": []
  }
 ],
 "metadata": {
  "kernelspec": {
   "display_name": "Python 3 (ipykernel)",
   "language": "python",
   "name": "python3"
  },
  "language_info": {
   "codemirror_mode": {
    "name": "ipython",
    "version": 3
   },
   "file_extension": ".py",
   "mimetype": "text/x-python",
   "name": "python",
   "nbconvert_exporter": "python",
   "pygments_lexer": "ipython3",
   "version": "3.9.7"
  }
 },
 "nbformat": 4,
 "nbformat_minor": 5
}
